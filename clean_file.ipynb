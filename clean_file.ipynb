{
 "cells": [
  {
   "cell_type": "code",
   "execution_count": 1,
   "metadata": {},
   "outputs": [],
   "source": [
    "import pandas as pd\n",
    "import numpy as np"
   ]
  },
  {
   "cell_type": "code",
   "execution_count": 2,
   "metadata": {},
   "outputs": [],
   "source": [
    "raw_train = pd.read_excel('processminer-rareevent.xlsx')"
   ]
  },
  {
   "cell_type": "code",
   "execution_count": null,
   "metadata": {},
   "outputs": [],
   "source": [
    "# CLEAN TRAIN DATA WITH CYCLE\n",
    "\n",
    "x_cols = raw_train.drop(['y'],axis = 1)\n",
    "y_col = raw_train['y']\n",
    "\n",
    "a = []\n",
    "b = []\n",
    "c = []\n",
    "for i in range(len(raw_train)):\n",
    "    if i < 2:\n",
    "        continue\n",
    "    else:\n",
    "        a.append(y_col.values[i])\n",
    "        b.append(x_cols.values[i-1] - x_cols.values[i-2])\n",
    "        c.append(x_cols.values[i-1] - x_cols.values[i-3])\n",
    "        \n",
    "cl_1 = pd.DataFrame(a)\n",
    "cl_2 = pd.DataFrame(b)\n",
    "cl_3 = pd.DataFrame(c)\n",
    "\n",
    "clean_train_data = pd.concat([cl_1,cl_2,cl_3],axis = 1)"
   ]
  },
  {
   "cell_type": "code",
   "execution_count": null,
   "metadata": {},
   "outputs": [],
   "source": [
    "writer = pd.ExcelWriter('without_breaks.xlsx')\n",
    "clean_data_nn.to_excel(writer,'Sheet1',index=False)\n",
    "writer.save()"
   ]
  },
  {
   "cell_type": "code",
   "execution_count": 5,
   "metadata": {},
   "outputs": [],
   "source": [
    "cols=['x%d' % i for i in range(1, 123, 1)]\n",
    "cols.insert(0,'y')\n",
    "clean_train_data.columns=[cols]"
   ]
  },
  {
   "cell_type": "code",
   "execution_count": 12,
   "metadata": {},
   "outputs": [],
   "source": [
    "X_train = clean_train_data.iloc[:,1:123].values\n",
    "y_train = clean_train_data['y'].values"
   ]
  },
  {
   "cell_type": "code",
   "execution_count": 13,
   "metadata": {},
   "outputs": [
    {
     "name": "stdout",
     "output_type": "stream",
     "text": [
      "(32440, 122)\n"
     ]
    }
   ],
   "source": [
    "from imblearn.over_sampling import SMOTE\n",
    "sm = SMOTE()\n",
    "X_train_1, y_train_1 = sm.fit_sample(X_train, y_train.ravel())\n",
    "print(X_train_1.shape)"
   ]
  },
  {
   "cell_type": "code",
   "execution_count": 16,
   "metadata": {},
   "outputs": [],
   "source": [
    "from sklearn.preprocessing import StandardScaler\n",
    "sc = StandardScaler()\n",
    "X_train_tran = sc.fit_transform(X_train_1)"
   ]
  },
  {
   "cell_type": "code",
   "execution_count": 19,
   "metadata": {},
   "outputs": [
    {
     "name": "stdout",
     "output_type": "stream",
     "text": [
      "WARNING:tensorflow:From C:\\Users\\nickn\\AppData\\Local\\Continuum\\anaconda3\\lib\\site-packages\\tensorflow\\python\\framework\\op_def_library.py:263: colocate_with (from tensorflow.python.framework.ops) is deprecated and will be removed in a future version.\n",
      "Instructions for updating:\n",
      "Colocations handled automatically by placer.\n"
     ]
    }
   ],
   "source": [
    "from keras.models import Sequential\n",
    "from keras.layers import Dense\n",
    "\n",
    "classifier = Sequential()\n",
    "classifier.add(Dense(122,input_dim =122, activation='relu',kernel_initializer = 'uniform'))\n",
    "classifier.add(Dense(122,activation='relu',kernel_initializer='uniform'))\n",
    "classifier.add(Dense(122,activation='relu',kernel_initializer='uniform'))\n",
    "classifier.add(Dense(122,activation='relu',kernel_initializer='uniform'))\n",
    "classifier.add(Dense(2,activation='softmax',kernel_initializer='uniform'))\n",
    "classifier.compile( optimizer='adam', loss = 'sparse_categorical_crossentropy', metrics=['accuracy'])"
   ]
  },
  {
   "cell_type": "code",
   "execution_count": 20,
   "metadata": {},
   "outputs": [
    {
     "name": "stdout",
     "output_type": "stream",
     "text": [
      "WARNING:tensorflow:From C:\\Users\\nickn\\AppData\\Local\\Continuum\\anaconda3\\lib\\site-packages\\tensorflow\\python\\ops\\math_ops.py:3066: to_int32 (from tensorflow.python.ops.math_ops) is deprecated and will be removed in a future version.\n",
      "Instructions for updating:\n",
      "Use tf.cast instead.\n",
      "Epoch 1/9\n",
      "32440/32440 [==============================] - 6s 197us/step - loss: 0.1005 - acc: 0.9567\n",
      "Epoch 2/9\n",
      "32440/32440 [==============================] - 4s 115us/step - loss: 0.0124 - acc: 0.9965\n",
      "Epoch 3/9\n",
      "32440/32440 [==============================] - 4s 108us/step - loss: 0.0110 - acc: 0.9970\n",
      "Epoch 4/9\n",
      "32440/32440 [==============================] - 3s 106us/step - loss: 0.0058 - acc: 0.9983\n",
      "Epoch 5/9\n",
      "32440/32440 [==============================] - 3s 99us/step - loss: 0.0042 - acc: 0.9986\n",
      "Epoch 6/9\n",
      "32440/32440 [==============================] - 3s 102us/step - loss: 0.0091 - acc: 0.9978\n",
      "Epoch 7/9\n",
      "32440/32440 [==============================] - 3s 103us/step - loss: 0.0045 - acc: 0.9987\n",
      "Epoch 8/9\n",
      "32440/32440 [==============================] - 3s 99us/step - loss: 8.6222e-04 - acc: 0.9998\n",
      "Epoch 9/9\n",
      "32440/32440 [==============================] - 3s 105us/step - loss: 0.0034 - acc: 0.9990 0s - loss: 0.0036 - acc:\n"
     ]
    },
    {
     "data": {
      "text/plain": [
       "<keras.callbacks.History at 0x21cc687e358>"
      ]
     },
     "execution_count": 20,
     "metadata": {},
     "output_type": "execute_result"
    }
   ],
   "source": [
    "classifier.fit(X_train_tran,y_train_1,epochs=9,batch_size = 100)"
   ]
  },
  {
   "cell_type": "code",
   "execution_count": 30,
   "metadata": {},
   "outputs": [],
   "source": [
    "raw_test = pd.read_excel('only_test.xlsx')"
   ]
  },
  {
   "cell_type": "code",
   "execution_count": 37,
   "metadata": {},
   "outputs": [],
   "source": [
    "# CLEAN TEST DATA WITH CYCLE\n",
    "\n",
    "x_cols = raw_test.drop(['y'],axis = 1)\n",
    "y_col = raw_test['y']\n",
    "\n",
    "a = []\n",
    "b = []\n",
    "c = []\n",
    "for i in range(len(raw_test)):\n",
    "    if i < 2:\n",
    "        continue\n",
    "    if raw_train['y'][i] == 0:\n",
    "        if raw_train['y'][i-1] == 1 or raw_train['y'][i-2] == 1:\n",
    "            continue\n",
    "        else:\n",
    "            a.append(y_col.values[i])\n",
    "            b.append(x_cols.values[i] - x_cols.values[i-1])\n",
    "            c.append(x_cols.values[i] - x_cols.values[i-2])\n",
    "            \n",
    "    else:\n",
    "        a.append(y_col.values[i])\n",
    "        b.append(x_cols.values[i] - x_cols.values[i-1])\n",
    "        c.append(x_cols.values[i] - x_cols.values[i-2])\n",
    "        \n",
    "cl_1 = pd.DataFrame(a)\n",
    "cl_2 = pd.DataFrame(b)\n",
    "cl_3 = pd.DataFrame(c)\n",
    "\n",
    "clean_test_data = pd.concat([cl_1,cl_2,cl_3],axis = 1)"
   ]
  },
  {
   "cell_type": "code",
   "execution_count": 38,
   "metadata": {},
   "outputs": [],
   "source": [
    "cols=['x%d' % i for i in range(1, 123, 1)]\n",
    "cols.insert(0,'y')\n",
    "clean_test_data.columns=[cols]"
   ]
  },
  {
   "cell_type": "code",
   "execution_count": 39,
   "metadata": {},
   "outputs": [],
   "source": [
    "X_test = clean_test_data.iloc[:,1:123].values\n",
    "y_test = clean_test_data['y'].values"
   ]
  },
  {
   "cell_type": "code",
   "execution_count": 40,
   "metadata": {},
   "outputs": [],
   "source": [
    "X_test_tran = sc.transform(X_test)"
   ]
  },
  {
   "cell_type": "code",
   "execution_count": 41,
   "metadata": {},
   "outputs": [
    {
     "name": "stdout",
     "output_type": "stream",
     "text": [
      "[[1791    5]\n",
      " [   8    4]]\n",
      "              precision    recall  f1-score   support\n",
      "\n",
      "           0       1.00      1.00      1.00      1796\n",
      "           1       0.44      0.33      0.38        12\n",
      "\n",
      "   micro avg       0.99      0.99      0.99      1808\n",
      "   macro avg       0.72      0.67      0.69      1808\n",
      "weighted avg       0.99      0.99      0.99      1808\n",
      "\n"
     ]
    }
   ],
   "source": [
    "from sklearn.metrics import confusion_matrix,classification_report\n",
    "\n",
    "predictions=classifier.predict(X_test_tran)\n",
    "predictions_classes=classifier.predict_classes(X_test_tran)\n",
    "print(confusion_matrix(y_test,predictions_classes))\n",
    "print(classification_report(y_test,predictions_classes))"
   ]
  },
  {
   "cell_type": "code",
   "execution_count": null,
   "metadata": {},
   "outputs": [],
   "source": []
  }
 ],
 "metadata": {
  "kernelspec": {
   "display_name": "Python 3",
   "language": "python",
   "name": "python3"
  },
  "language_info": {
   "codemirror_mode": {
    "name": "ipython",
    "version": 3
   },
   "file_extension": ".py",
   "mimetype": "text/x-python",
   "name": "python",
   "nbconvert_exporter": "python",
   "pygments_lexer": "ipython3",
   "version": "3.7.3"
  }
 },
 "nbformat": 4,
 "nbformat_minor": 2
}
